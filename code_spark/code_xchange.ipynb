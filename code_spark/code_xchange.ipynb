{
 "cells": [
  {
   "cell_type": "code",
   "execution_count": 23,
   "metadata": {
    "collapsed": true,
    "ExecuteTime": {
     "start_time": "2023-04-28T05:56:10.889020Z",
     "end_time": "2023-04-28T05:56:10.896086Z"
    }
   },
   "outputs": [],
   "source": [
    "from pyspark.sql import SparkSession"
   ]
  },
  {
   "cell_type": "code",
   "execution_count": 24,
   "outputs": [],
   "source": [
    "def convert_to_cp932(value):\n",
    "    if value is None:\n",
    "        return None\n",
    "    try:\n",
    "        return value.encode('utf-8').decode('cp932')\n",
    "    except UnicodeDecodeError:\n",
    "        return value.encode('utf-8', 'replace').decode('cp932', 'replace')"
   ],
   "metadata": {
    "collapsed": false,
    "ExecuteTime": {
     "start_time": "2023-04-28T05:56:13.883741Z",
     "end_time": "2023-04-28T05:56:13.884353Z"
    }
   }
  },
  {
   "cell_type": "code",
   "execution_count": 49,
   "outputs": [],
   "source": [
    "# Sparkセッションの作成\n",
    "spark = SparkSession.builder \\\n",
    "    .appName(\"CSV to Parquet\") \\\n",
    "    .getOrCreate()\n",
    "\n",
    "# CSVファイルの読み込み\n",
    "input_df = spark.read \\\n",
    "    .option(\"header\", \"true\") \\\n",
    "    .option(\"inferSchema\", \"true\") \\\n",
    "    .csv(\"input_utf8.csv\")\n",
    "\n",
    "# DataFrameをParquet形式で保存\n",
    "input_df.write \\\n",
    "    .mode(\"overwrite\") \\\n",
    "    .parquet(\"output_parquet\")"
   ],
   "metadata": {
    "collapsed": false,
    "ExecuteTime": {
     "start_time": "2023-04-28T06:55:53.640883Z",
     "end_time": "2023-04-28T06:55:54.197542Z"
    }
   }
  },
  {
   "cell_type": "code",
   "execution_count": 50,
   "outputs": [
    {
     "name": "stdout",
     "output_type": "stream",
     "text": [
      "+--------+---+------+\n",
      "|    name|age| score|\n",
      "+--------+---+------+\n",
      "|   Alice| 25| 100+5|\n",
      "|山本太郎| 30|  85-5|\n",
      "|   Carol| 28| 90+10|\n",
      "|    Dave| 35| 80-10|\n",
      "|     Eve| 22| 95+15|\n",
      "|   Frank| 27| 70-15|\n",
      "|阿南是清| 29|105+20|\n",
      "|   Heidi| 32| 55-20|\n",
      "|    Ivan| 26|110+25|\n",
      "|    Judy| 31| 40-25|\n",
      "+--------+---+------+\n",
      "\n"
     ]
    }
   ],
   "source": [
    "input_df.show()"
   ],
   "metadata": {
    "collapsed": false,
    "ExecuteTime": {
     "start_time": "2023-04-28T06:56:21.703907Z",
     "end_time": "2023-04-28T06:56:21.776724Z"
    }
   }
  },
  {
   "cell_type": "code",
   "execution_count": 27,
   "outputs": [],
   "source": [
    "# DataFrameをParquet形式で保存\n",
    "input_df.write \\\n",
    "    .mode(\"overwrite\") \\\n",
    "    .parquet(\"output_parquet\")"
   ],
   "metadata": {
    "collapsed": false,
    "ExecuteTime": {
     "start_time": "2023-04-28T05:56:34.802108Z",
     "end_time": "2023-04-28T05:56:35.031850Z"
    }
   }
  },
  {
   "cell_type": "code",
   "execution_count": 40,
   "outputs": [],
   "source": [
    "df_utf8 = spark.read \\\n",
    "    .option(\"header\", \"true\") \\\n",
    "    .option(\"inferSchema\", \"true\") \\\n",
    "    .parquet(\"output_parquet\")"
   ],
   "metadata": {
    "collapsed": false,
    "ExecuteTime": {
     "start_time": "2023-04-28T06:19:57.238173Z",
     "end_time": "2023-04-28T06:19:57.403013Z"
    }
   }
  },
  {
   "cell_type": "code",
   "execution_count": 41,
   "outputs": [
    {
     "name": "stdout",
     "output_type": "stream",
     "text": [
      "+--------+---+------+\n",
      "|    name|age| score|\n",
      "+--------+---+------+\n",
      "|   Alice| 25| 100+5|\n",
      "|山本太郎| 30|  85-5|\n",
      "|   Carol| 28| 90+10|\n",
      "|    Dave| 35| 80-10|\n",
      "|     Eve| 22| 95+15|\n",
      "|   Frank| 27| 70-15|\n",
      "|   Grace| 29|105+20|\n",
      "|   Heidi| 32| 55-20|\n",
      "|    Ivan| 26|110+25|\n",
      "|    Judy| 31| 40-25|\n",
      "+--------+---+------+\n",
      "\n"
     ]
    }
   ],
   "source": [
    "df_utf8.show()"
   ],
   "metadata": {
    "collapsed": false,
    "ExecuteTime": {
     "start_time": "2023-04-28T06:20:00.713337Z",
     "end_time": "2023-04-28T06:20:00.944615Z"
    }
   }
  },
  {
   "cell_type": "code",
   "execution_count": 43,
   "outputs": [],
   "source": [
    "from pyspark.sql.functions import udf, col\n",
    "from pyspark.sql.types import StringType# 文字列をCP932に変換するUDFを定義\n",
    "@udf(StringType())\n",
    "def convert_to_cp932(value):\n",
    "    if value is None:\n",
    "        return None\n",
    "    try:\n",
    "        return value.encode('utf-8').decode('cp932')\n",
    "    except UnicodeDecodeError:\n",
    "        return value.encode('utf-8', 'replace').decode('cp932', 'replace')"
   ],
   "metadata": {
    "collapsed": false,
    "ExecuteTime": {
     "start_time": "2023-04-28T06:24:36.822226Z",
     "end_time": "2023-04-28T06:24:36.827935Z"
    }
   }
  },
  {
   "cell_type": "code",
   "execution_count": 36,
   "outputs": [],
   "source": [
    "import shutil\n",
    "import os\n",
    "\n",
    "# 一時的なディレクトリにDataFrameをCP932エンコーディングのCSV形式で保存\n",
    "temp_output_dir = \"temp_output_cp932\"\n",
    "df_utf8.write \\\n",
    "    .option(\"header\", \"true\") \\\n",
    "    .option(\"encoding\", \"CP932\") \\\n",
    "    .mode(\"overwrite\") \\\n",
    "    .csv(temp_output_dir)"
   ],
   "metadata": {
    "collapsed": false,
    "ExecuteTime": {
     "start_time": "2023-04-28T06:03:05.533022Z",
     "end_time": "2023-04-28T06:03:05.760223Z"
    }
   }
  },
  {
   "cell_type": "code",
   "execution_count": 44,
   "outputs": [],
   "source": [
    "df_cp932 = df_utf8\n",
    "for column, dtype in df_utf8.dtypes:\n",
    "    if dtype == 'string':\n",
    "        df_cp932 = df_cp932.withColumn(column, convert_to_cp932(col(column)))"
   ],
   "metadata": {
    "collapsed": false,
    "ExecuteTime": {
     "start_time": "2023-04-28T06:25:06.787780Z",
     "end_time": "2023-04-28T06:25:06.843526Z"
    }
   }
  },
  {
   "cell_type": "code",
   "execution_count": 45,
   "outputs": [
    {
     "name": "stderr",
     "output_type": "stream",
     "text": [
      "                                                                                \r"
     ]
    }
   ],
   "source": [
    "df_cp932.write \\\n",
    "    .option(\"header\", \"true\") \\\n",
    "    .option(\"encoding\", \"CP932\") \\\n",
    "    .mode(\"overwrite\") \\\n",
    "    .csv(\"temp_output_dir\")"
   ],
   "metadata": {
    "collapsed": false,
    "ExecuteTime": {
     "start_time": "2023-04-28T06:26:20.556580Z",
     "end_time": "2023-04-28T06:26:22.035835Z"
    }
   }
  },
  {
   "cell_type": "code",
   "execution_count": 46,
   "outputs": [],
   "source": [
    "# 一時的なディレクトリから最初のパートファイルを取得\n",
    "parquet_files = [file for file in os.listdir(temp_output_dir) if file.startswith(\"part-\")]"
   ],
   "metadata": {
    "collapsed": false,
    "ExecuteTime": {
     "start_time": "2023-04-28T06:28:34.060995Z",
     "end_time": "2023-04-28T06:28:34.073210Z"
    }
   }
  },
  {
   "cell_type": "code",
   "execution_count": 47,
   "outputs": [
    {
     "data": {
      "text/plain": "['part-00000-61af7d05-b16a-497b-a0bf-7dc9ecb744af-c000.csv']"
     },
     "execution_count": 47,
     "metadata": {},
     "output_type": "execute_result"
    }
   ],
   "source": [
    "parquet_files"
   ],
   "metadata": {
    "collapsed": false,
    "ExecuteTime": {
     "start_time": "2023-04-28T06:28:38.904025Z",
     "end_time": "2023-04-28T06:28:38.909210Z"
    }
   }
  },
  {
   "cell_type": "code",
   "execution_count": 48,
   "outputs": [
    {
     "data": {
      "text/plain": "'output_cp932.csv/part-00000-61af7d05-b16a-497b-a0bf-7dc9ecb744af-c000.csv'"
     },
     "execution_count": 48,
     "metadata": {},
     "output_type": "execute_result"
    }
   ],
   "source": [
    "# 最初のパートファイルをリネームしてoutput_cp932.csvに保存\n",
    "shutil.move(os.path.join(temp_output_dir, parquet_files[0]), \"output_cp932.csv\")"
   ],
   "metadata": {
    "collapsed": false,
    "ExecuteTime": {
     "start_time": "2023-04-28T06:28:52.237789Z",
     "end_time": "2023-04-28T06:28:52.264085Z"
    }
   }
  },
  {
   "cell_type": "code",
   "execution_count": null,
   "outputs": [],
   "source": [],
   "metadata": {
    "collapsed": false
   }
  }
 ],
 "metadata": {
  "kernelspec": {
   "display_name": "Python 3",
   "language": "python",
   "name": "python3"
  },
  "language_info": {
   "codemirror_mode": {
    "name": "ipython",
    "version": 2
   },
   "file_extension": ".py",
   "mimetype": "text/x-python",
   "name": "python",
   "nbconvert_exporter": "python",
   "pygments_lexer": "ipython2",
   "version": "2.7.6"
  }
 },
 "nbformat": 4,
 "nbformat_minor": 0
}
